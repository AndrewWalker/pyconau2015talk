{
 "cells": [
  {
   "cell_type": "markdown",
   "metadata": {},
   "source": [
    "# scipy.weave demo 1\n",
    "\n",
    "Very simple illustrations of calling C code from python"
   ]
  },
  {
   "cell_type": "code",
   "execution_count": null,
   "metadata": {
    "collapsed": true
   },
   "outputs": [],
   "source": [
    "import scipy.weave\n",
    "import numpy as np"
   ]
  },
  {
   "cell_type": "code",
   "execution_count": 20,
   "metadata": {
    "collapsed": false
   },
   "outputs": [
    {
     "name": "stdout",
     "output_type": "stream",
     "text": [
      "-1.0\n"
     ]
    }
   ],
   "source": [
    "def det22(A):\n",
    "    code = '''\n",
    "    double res;\n",
    "    res = A2(0,0) * A2(1,1) - A2(1,0) * A2(0, 1);\n",
    "    out[0] = res;\n",
    "    '''\n",
    "    out = [ 0.0 ]\n",
    "    scipy.weave.inline(code = code,\n",
    "                       arg_names = ['A', 'out'], \n",
    "                       extra_compile_args = ['-fcolor-diagnostics'])\n",
    "    return out[0]\n",
    "\n",
    "x = np.array([[1, 2],[3.,5]])\n",
    "print det22(x)"
   ]
  },
  {
   "cell_type": "code",
   "execution_count": 19,
   "metadata": {
    "collapsed": false
   },
   "outputs": [
    {
     "name": "stdout",
     "output_type": "stream",
     "text": [
      "[[1 3]\n",
      " [2 5]]\n"
     ]
    }
   ],
   "source": [
    "def transpose22(A):\n",
    "    code = '''\n",
    "    double a_10 = A2(1, 0);\n",
    "    double a_01 = A2(0, 1);\n",
    "    A2(1, 0) = a_01;\n",
    "    A2(0, 1) = a_10;'''\n",
    "    out = np.zeros((2,2))\n",
    "    scipy.weave.inline(code = code, arg_names = ['A'])\n",
    "    return A\n",
    "\n",
    "print transpose22(np.array([[1, 2],[3,5]]))"
   ]
  },
  {
   "cell_type": "code",
   "execution_count": null,
   "metadata": {
    "collapsed": true
   },
   "outputs": [],
   "source": []
  }
 ],
 "metadata": {
  "kernelspec": {
   "display_name": "Python 2",
   "language": "python",
   "name": "python2"
  },
  "language_info": {
   "codemirror_mode": {
    "name": "ipython",
    "version": 2
   },
   "file_extension": ".py",
   "mimetype": "text/x-python",
   "name": "python",
   "nbconvert_exporter": "python",
   "pygments_lexer": "ipython2",
   "version": "2.7.10"
  }
 },
 "nbformat": 4,
 "nbformat_minor": 0
}
