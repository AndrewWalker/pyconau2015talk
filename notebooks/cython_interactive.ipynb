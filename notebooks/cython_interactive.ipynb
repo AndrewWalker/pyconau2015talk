{
 "cells": [
  {
   "cell_type": "code",
   "execution_count": 1,
   "metadata": {
    "collapsed": true
   },
   "outputs": [],
   "source": [
    "import cython\n",
    "%load_ext cython"
   ]
  },
  {
   "cell_type": "code",
   "execution_count": 20,
   "metadata": {
    "collapsed": false
   },
   "outputs": [],
   "source": [
    "%%cython\n",
    "import numpy as np\n",
    "cimport numpy as np\n",
    "\n",
    "cdef magnitude(np.ndarray p, np.ndarray q):\n",
    "    cdef double dx = q[0] - p[0]\n",
    "    cdef double dy = q[1] - p[1]\n",
    "    cdef double res = np.sqrt(dx*dx + dy*dy)\n",
    "    return res\n",
    "\n",
    "def dist_pt_seg(np.ndarray p, np.ndarray u, np.ndarray v):\n",
    "    cdef double seglen = magnitude(u, v)\n",
    "    if seglen < 1e-8:\n",
    "        raise Exception('segment is co-linear')\n",
    "    t =  (p[0] - u[0]) * (v[0] - u[0])\n",
    "    t += (p[1] - u[1]) * (v[1] - u[1])\n",
    "    t /= seglen**2\n",
    "    print t\n",
    "    if t < 0.0:\n",
    "        return magnitude(p, u)\n",
    "    elif t > 1.0:\n",
    "        return magnitude(p, v)\n",
    "    else:\n",
    "        return magnitude(p, u + t * (v-u)) "
   ]
  },
  {
   "cell_type": "code",
   "execution_count": 23,
   "metadata": {
    "collapsed": false
   },
   "outputs": [
    {
     "name": "stdout",
     "output_type": "stream",
     "text": [
      "-0.5\n"
     ]
    },
    {
     "data": {
      "text/plain": [
       "1.4142135623730951"
      ]
     },
     "execution_count": 23,
     "metadata": {},
     "output_type": "execute_result"
    }
   ],
   "source": [
    "p = np.array([-2.0, 1.0])\n",
    "u = np.array([-1.0, 0.0])\n",
    "v = np.array([ 1.0, 0.0])\n",
    "dist_pt_seg(p, u, v)"
   ]
  },
  {
   "cell_type": "code",
   "execution_count": null,
   "metadata": {
    "collapsed": true
   },
   "outputs": [],
   "source": []
  }
 ],
 "metadata": {
  "kernelspec": {
   "display_name": "Python 2",
   "language": "python",
   "name": "python2"
  },
  "language_info": {
   "codemirror_mode": {
    "name": "ipython",
    "version": 2
   },
   "file_extension": ".py",
   "mimetype": "text/x-python",
   "name": "python",
   "nbconvert_exporter": "python",
   "pygments_lexer": "ipython2",
   "version": "2.7.10"
  }
 },
 "nbformat": 4,
 "nbformat_minor": 0
}
