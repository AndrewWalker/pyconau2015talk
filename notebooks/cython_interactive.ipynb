{
 "cells": [
  {
   "cell_type": "code",
   "execution_count": 1,
   "metadata": {
    "collapsed": true
   },
   "outputs": [],
   "source": [
    "import cython\n",
    "%load_ext cython"
   ]
  },
  {
   "cell_type": "code",
   "execution_count": 27,
   "metadata": {
    "collapsed": false
   },
   "outputs": [],
   "source": [
    "%%cython\n",
    "import numpy as np\n",
    "cimport numpy as np\n",
    "\n",
    "cdef dist_between(np.ndarray p, np.ndarray q):\n",
    "    cdef double dx = q[0] - p[0]\n",
    "    cdef double dy = q[1] - p[1]\n",
    "    return np.sqrt(dx*dx + dy*dy)\n",
    "\n",
    "def dist_pt_seg(np.ndarray p, np.ndarray u, np.ndarray v):\n",
    "    cdef double seg_len = dist_between(u, v)\n",
    "    cdef double t = 0.0\n",
    "    t += (p[0] - u[0]) * (v[0] - u[0])\n",
    "    t += (p[1] - u[1]) * (v[1] - u[1])\n",
    "    t /= (seg_len*seg_len)\n",
    "    if t < 0 or t > 1.0:\n",
    "        return 0.0\n",
    "    pt = u + t * (v-u)\n",
    "    print t, pt\n",
    "    return dist_between(p, pt)"
   ]
  },
  {
   "cell_type": "code",
   "execution_count": 28,
   "metadata": {
    "collapsed": false
   },
   "outputs": [
    {
     "name": "stdout",
     "output_type": "stream",
     "text": [
      "0.5 [ 0.  0.]\n"
     ]
    },
    {
     "data": {
      "text/plain": [
       "2.0"
      ]
     },
     "execution_count": 28,
     "metadata": {},
     "output_type": "execute_result"
    }
   ],
   "source": [
    "p = np.array([0.0, 2.0])\n",
    "u = np.array([-1.0, 0.0])\n",
    "v = np.array([ 1.0, 0.0])\n",
    "distance_point_segment(p, u, v)"
   ]
  },
  {
   "cell_type": "code",
   "execution_count": null,
   "metadata": {
    "collapsed": true
   },
   "outputs": [],
   "source": []
  }
 ],
 "metadata": {
  "kernelspec": {
   "display_name": "Python 2",
   "language": "python",
   "name": "python2"
  },
  "language_info": {
   "codemirror_mode": {
    "name": "ipython",
    "version": 2
   },
   "file_extension": ".py",
   "mimetype": "text/x-python",
   "name": "python",
   "nbconvert_exporter": "python",
   "pygments_lexer": "ipython2",
   "version": "2.7.10"
  }
 },
 "nbformat": 4,
 "nbformat_minor": 0
}
