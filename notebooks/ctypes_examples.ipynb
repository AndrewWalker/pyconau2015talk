{
 "cells": [
  {
   "cell_type": "code",
   "execution_count": 39,
   "metadata": {
    "collapsed": false
   },
   "outputs": [],
   "source": [
    "import ctypes\n",
    "lib = ctypes.CDLL('/usr/lib/libm.dylib')\n",
    "\n",
    "bessel_j0 = lib.j0\n",
    "bessel_j0.argtypes = [ ctypes.c_double ]\n",
    "bessel_j0.restype = ctypes.c_double\n",
    "\n",
    "bessel_j1 = lib.j1\n",
    "bessel_j1.argtypes = [ ctypes.c_double ]\n",
    "bessel_j1.restype = ctypes.c_double\n",
    "\n",
    "bessel_jn = lib.jn\n",
    "bessel_jn.argtypes = [ ctypes.c_int, ctypes.c_double ]\n",
    "bessel_jn.restype = ctypes.c_double"
   ]
  },
  {
   "cell_type": "code",
   "execution_count": 34,
   "metadata": {
    "collapsed": false
   },
   "outputs": [
    {
     "name": "stdout",
     "output_type": "stream",
     "text": [
      "0.223890779141\n",
      "0.223890779141\n",
      "0.576724807757\n",
      "0.576724807757\n",
      "0.309062722255\n",
      "0.309062722255\n"
     ]
    }
   ],
   "source": [
    "import scipy.special as ss\n",
    "\n",
    "print bessel_j0(2.0)\n",
    "print ss.j0(2.0)\n",
    "\n",
    "print bessel_j1(2.0)\n",
    "print ss.j1(2.0)\n",
    "\n",
    "print bessel_jn(3, 3.0)\n",
    "print ss.jn(3, 3.0)"
   ]
  }
 ],
 "metadata": {
  "kernelspec": {
   "display_name": "Python 2",
   "language": "python",
   "name": "python2"
  },
  "language_info": {
   "codemirror_mode": {
    "name": "ipython",
    "version": 2
   },
   "file_extension": ".py",
   "mimetype": "text/x-python",
   "name": "python",
   "nbconvert_exporter": "python",
   "pygments_lexer": "ipython2",
   "version": "2.7.10"
  }
 },
 "nbformat": 4,
 "nbformat_minor": 0
}
