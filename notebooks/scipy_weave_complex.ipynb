{
 "cells": [
  {
   "cell_type": "markdown",
   "metadata": {},
   "source": [
    "# scipy.weave demo 2\n",
    "\n",
    "Wrapping a more complex function from CGAL\n",
    "\n",
    "- some linker options configured for a local install of miniconda\n",
    "- assumes that CGAL is installed"
   ]
  },
  {
   "cell_type": "code",
   "execution_count": 20,
   "metadata": {
    "collapsed": false
   },
   "outputs": [],
   "source": [
    "%matplotlib inline\n",
    "import matplotlib.pyplot as plt\n",
    "import scipy.weave\n",
    "import numpy as np\n",
    "import os\n",
    "\n",
    "def platform_options():\n",
    "    \"\"\"Platform specific options for accessing CGAL from scipy.weave\n",
    "    \"\"\"\n",
    "    \n",
    "    root_directory = os.path.expanduser('~/homebrew')\n",
    "    cgal_opts = {\n",
    "        'library_dirs' : [os.path.join(root_directory, 'lib') ],\n",
    "        'include_dirs' : [ os.path.join(root_directory, 'include') ],\n",
    "        'extra_compile_args' : ['-fcolor-diagnostics', '-std=c++11'],\n",
    "        'extra_link_args' : ['-rpath ' + os.path.join(root_directory, 'lib')],\n",
    "        'verbose' : 2\n",
    "    }\n",
    "    return cgal_opts"
   ]
  },
  {
   "cell_type": "code",
   "execution_count": 21,
   "metadata": {
    "collapsed": true
   },
   "outputs": [],
   "source": [
    "CGAL_MINK_SUM_CODE = '''\n",
    "    Polygon_2 P;\n",
    "    Polygon_2 Q;\n",
    "    for(int i = 0; i < Np[0]; i++)\n",
    "    {\n",
    "        P.push_back(Point_2(P2(i,0), P2(i,1)));\n",
    "    }\n",
    "    for(int i = 0; i < Nq[0]; i++)\n",
    "    {\n",
    "        Q.push_back(Point_2(Q2(i,0), Q2(i,1)));\n",
    "    }\n",
    "    Polygon_with_holes_2  sum = minkowski_sum_2(P, Q);\n",
    "    auto ob = sum.outer_boundary();\n",
    "    for(int i = 0; i < ob.size(); i++)\n",
    "    {\n",
    "        Point_2 pt = ob.vertex(i);\n",
    "        py::list t(2);\n",
    "        t[0] = py::object( CGAL::to_double(pt.x()) );\n",
    "        t[1] = py::object( CGAL::to_double(pt.y()) );\n",
    "        out.append( t ); \n",
    "    }\n",
    "    '''"
   ]
  },
  {
   "cell_type": "code",
   "execution_count": 24,
   "metadata": {
    "collapsed": false
   },
   "outputs": [],
   "source": [
    "def minkowski_sum(p, q, **kwargs):\n",
    "    out = []\n",
    "    scipy.weave.inline(code = CGAL_MINK_SUM_CODE, \n",
    "                       support_code = CGAL_SUPPORT_CODE,\n",
    "                       arg_names = ['p', 'q', 'out'],\n",
    "                       headers = [\n",
    "                            '<CGAL/Exact_predicates_exact_constructions_kernel.h>',\n",
    "                            '<CGAL/Cartesian.h>',\n",
    "                            '<CGAL/minkowski_sum_2.h>',\n",
    "                       ],\n",
    "                       libraries = ['CGAL'],\n",
    "                       **platform_options())\n",
    "    return np.array(out)"
   ]
  },
  {
   "cell_type": "code",
   "execution_count": 26,
   "metadata": {
    "collapsed": false
   },
   "outputs": [
    {
     "data": {
      "image/png": "[encoded data removed]",
      "text/plain": [
       "<matplotlib.figure.Figure at 0x106f2f350>"
      ]
     },
     "metadata": {},
     "output_type": "display_data"
    }
   ],
   "source": [
    "p = np.array([\n",
    "        [0.0, 0.0],\n",
    "        [1.0, 0.0],\n",
    "        [1.0, 1.0],\n",
    "        [0.0, 1.0],\n",
    "    ])\n",
    "q = np.array([\n",
    "        [-0.5, 0.0],\n",
    "        [ 0.5, 0.0],\n",
    "        [ 0.0, 1.0],\n",
    "    ])\n",
    "\n",
    "out = minkowski_sum(p, q)\n",
    "out = np.vstack([out, out[0, :]])\n",
    "\n",
    "plt.plot(out[:,0], out[:,1])\n",
    "plt.gca().set_xlim(-1, 2)\n",
    "plt.gca().set_ylim(-1, 3);"
   ]
  },
  {
   "cell_type": "code",
   "execution_count": null,
   "metadata": {
    "collapsed": true
   },
   "outputs": [],
   "source": []
  }
 ],
 "metadata": {
  "kernelspec": {
   "display_name": "Python 2",
   "language": "python",
   "name": "python2"
  },
  "language_info": {
   "codemirror_mode": {
    "name": "ipython",
    "version": 2
   },
   "file_extension": ".py",
   "mimetype": "text/x-python",
   "name": "python",
   "nbconvert_exporter": "python",
   "pygments_lexer": "ipython2",
   "version": "2.7.10"
  }
 },
 "nbformat": 4,
 "nbformat_minor": 0
}
